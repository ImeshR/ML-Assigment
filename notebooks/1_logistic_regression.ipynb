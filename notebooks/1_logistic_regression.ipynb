{
 "cells": [
  {
   "cell_type": "code",
   "execution_count": 9,
   "id": "6c214f6f",
   "metadata": {},
   "outputs": [],
   "source": [
    "import pandas as pd\n",
    "import numpy as np\n",
    "import matplotlib.pyplot as plt\n",
    "import seaborn as sns\n",
    "from sklearn.model_selection import train_test_split\n",
    "from sklearn.preprocessing import StandardScaler, OneHotEncoder\n",
    "from sklearn.linear_model import LogisticRegression\n",
    "from sklearn.metrics import classification_report, confusion_matrix, accuracy_score\n",
    "from sklearn.compose import ColumnTransformer\n",
    "from sklearn.pipeline import Pipeline"
   ]
  },
  {
   "cell_type": "code",
   "execution_count": null,
   "id": "ed718908",
   "metadata": {},
   "outputs": [],
   "source": [
    "# Load dataset\n",
    "data = pd.read_csv(\"../data/Jan_2020_ontime.csv\")\n",
    "\n",
    "# Basic data exploration\n",
    "print(\"Dataset shape:\", data.shape)\n",
    "print(\"\\nFirst 5 rows:\")\n",
    "print(data.head())\n",
    "\n",
    "# Check for missing values\n",
    "print(\"\\nMissing values:\")\n",
    "print(data.isnull().sum())\n",
    "\n",
    "# Simple visualization of target variable\n",
    "plt.figure(figsize=(8, 6))\n",
    "sns.countplot(x='DEP_DEL15', data=data)\n",
    "plt.title('Flight Delay Distribution')\n",
    "plt.xlabel('Delayed 15+ minutes (1=Yes, 0=No)')\n",
    "plt.ylabel('Count')\n",
    "plt.show()"
   ]
  },
  {
   "cell_type": "code",
   "execution_count": 11,
   "id": "a87a3b63",
   "metadata": {},
   "outputs": [],
   "source": [
    "# Data preprocessing - drop rows with missing values in key columns\n",
    "data = data.dropna(subset=['DEP_TIME', 'OP_UNIQUE_CARRIER', 'ORIGIN', 'DEST', 'DEP_DEL15'])\n",
    "\n",
    "# Select a small set of features that would be known before flight\n",
    "features = [\n",
    "    'DAY_OF_WEEK',      # Day of the week (1=Monday, 7=Sunday)\n",
    "    'OP_UNIQUE_CARRIER', # Airline carrier code\n",
    "    'DEP_TIME'          # Departure time\n",
    "]\n",
    "\n",
    "# Create a simple derived feature - departure hour\n",
    "data['DEP_HOUR'] = data['DEP_TIME'].apply(lambda x: int(x/100))\n",
    "features.append('DEP_HOUR')\n",
    "\n",
    "# Prepare features and target\n",
    "X = data[features]\n",
    "y = data['DEP_DEL15']\n",
    "\n",
    "# Split data into training and testing sets\n",
    "X_train, X_test, y_train, y_test = train_test_split(X, y, test_size=0.2, random_state=42)\n",
    "\n",
    "# Define preprocessing for numerical and categorical features\n",
    "numerical_features = ['DEP_TIME', 'DEP_HOUR', 'DAY_OF_WEEK']\n",
    "categorical_features = ['OP_UNIQUE_CARRIER']"
   ]
  },
  {
   "cell_type": "code",
   "execution_count": null,
   "id": "659f8852",
   "metadata": {},
   "outputs": [],
   "source": [
    "# Create preprocessing steps\n",
    "preprocessor = ColumnTransformer(\n",
    "    transformers=[\n",
    "        ('num', StandardScaler(), numerical_features),\n",
    "        ('cat', OneHotEncoder(handle_unknown='ignore'), categorical_features)\n",
    "    ])\n",
    "\n",
    "# Create a pipeline with preprocessing and model\n",
    "model_pipeline = Pipeline(steps=[\n",
    "    ('preprocessor', preprocessor),\n",
    "    ('classifier', LogisticRegression(max_iter=1000))\n",
    "])\n",
    "\n",
    "# Train the model\n",
    "model_pipeline.fit(X_train, y_train)\n",
    "\n",
    "# Make predictions\n",
    "y_pred = model_pipeline.predict(X_test)\n",
    "\n",
    "# Evaluate the model\n",
    "print(\"\\nModel Evaluation:\")\n",
    "print(\"Accuracy:\", accuracy_score(y_test, y_pred))\n",
    "print(\"\\nConfusion Matrix:\")\n",
    "print(confusion_matrix(y_test, y_pred))\n",
    "print(\"\\nClassification Report:\")\n",
    "print(classification_report(y_test, y_pred))\n",
    "\n",
    "# Simple visualization of results\n",
    "cm = confusion_matrix(y_test, y_pred)\n",
    "plt.figure(figsize=(8, 6))\n",
    "sns.heatmap(cm, annot=True, fmt='d', cmap='Blues')\n",
    "plt.title('Confusion Matrix')\n",
    "plt.xlabel('Predicted Label')\n",
    "plt.ylabel('True Label')\n",
    "plt.show()"
   ]
  }
 ],
 "metadata": {
  "kernelspec": {
   "display_name": "venv",
   "language": "python",
   "name": "python3"
  },
  "language_info": {
   "codemirror_mode": {
    "name": "ipython",
    "version": 3
   },
   "file_extension": ".py",
   "mimetype": "text/x-python",
   "name": "python",
   "nbconvert_exporter": "python",
   "pygments_lexer": "ipython3",
   "version": "3.11.3"
  }
 },
 "nbformat": 4,
 "nbformat_minor": 5
}
