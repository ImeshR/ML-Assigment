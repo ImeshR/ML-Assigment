{
 "cells": [
  {
   "cell_type": "code",
   "execution_count": 7,
   "id": "824a995e",
   "metadata": {},
   "outputs": [],
   "source": [
    "import pandas as pd\n",
    "import numpy as np\n",
    "import matplotlib.pyplot as plt\n",
    "import seaborn as sns\n",
    "from sklearn.model_selection import train_test_split\n",
    "from sklearn.ensemble import RandomForestClassifier\n",
    "from sklearn.metrics import classification_report, confusion_matrix, accuracy_score"
   ]
  },
  {
   "cell_type": "code",
   "execution_count": 8,
   "id": "faa50b95",
   "metadata": {},
   "outputs": [
    {
     "name": "stdout",
     "output_type": "stream",
     "text": [
      "Dataset shape: (607346, 22)\n",
      "\n",
      "First 5 rows:\n",
      "   DAY_OF_MONTH  DAY_OF_WEEK OP_UNIQUE_CARRIER  OP_CARRIER_AIRLINE_ID  \\\n",
      "0             1            3                EV                  20366   \n",
      "1             1            3                EV                  20366   \n",
      "2             1            3                EV                  20366   \n",
      "3             1            3                EV                  20366   \n",
      "4             1            3                EV                  20366   \n",
      "\n",
      "  OP_CARRIER TAIL_NUM  OP_CARRIER_FL_NUM  ORIGIN_AIRPORT_ID  \\\n",
      "0         EV   N48901               4397              13930   \n",
      "1         EV   N16976               4401              15370   \n",
      "2         EV   N12167               4404              11618   \n",
      "3         EV   N14902               4405              10781   \n",
      "4         EV   N606UX               4407              14524   \n",
      "\n",
      "   ORIGIN_AIRPORT_SEQ_ID ORIGIN  ...  DEST  DEP_TIME DEP_DEL15  DEP_TIME_BLK  \\\n",
      "0                1393007    ORD  ...   GRB    1003.0       0.0     1000-1059   \n",
      "1                1537002    TUL  ...   ORD    1027.0       0.0     1000-1059   \n",
      "2                1161802    EWR  ...   TYS    1848.0       0.0     1800-1859   \n",
      "3                1078105    BTR  ...   IAH    1846.0       0.0     1800-1859   \n",
      "4                1452401    RIC  ...   IAH    1038.0       0.0     1000-1059   \n",
      "\n",
      "   ARR_TIME ARR_DEL15  CANCELLED  DIVERTED  DISTANCE  Unnamed: 21  \n",
      "0    1117.0       0.0        0.0       0.0     174.0          NaN  \n",
      "1    1216.0       0.0        0.0       0.0     585.0          NaN  \n",
      "2    2120.0       0.0        0.0       0.0     631.0          NaN  \n",
      "3    2004.0       0.0        0.0       0.0     253.0          NaN  \n",
      "4    1330.0       0.0        0.0       0.0    1157.0          NaN  \n",
      "\n",
      "[5 rows x 22 columns]\n"
     ]
    }
   ],
   "source": [
    "# Load dataset\n",
    "data = pd.read_csv(\"../data/Jan_2020_ontime.csv\")\n",
    "\n",
    "# Basic data exploration\n",
    "print(\"Dataset shape:\", data.shape)\n",
    "print(\"\\nFirst 5 rows:\")\n",
    "print(data.head())"
   ]
  },
  {
   "cell_type": "code",
   "execution_count": 9,
   "id": "26ad1f79",
   "metadata": {},
   "outputs": [
    {
     "name": "stdout",
     "output_type": "stream",
     "text": [
      "\n",
      "Training Random Forest model...\n",
      "\n",
      "Model Evaluation:\n",
      "Accuracy: 0.8645384167152251\n",
      "\n",
      "Confusion Matrix:\n",
      "[[103770      9]\n",
      " [ 16264     87]]\n",
      "\n",
      "Classification Report:\n",
      "              precision    recall  f1-score   support\n",
      "\n",
      "         0.0       0.86      1.00      0.93    103779\n",
      "         1.0       0.91      0.01      0.01     16351\n",
      "\n",
      "    accuracy                           0.86    120130\n",
      "   macro avg       0.89      0.50      0.47    120130\n",
      "weighted avg       0.87      0.86      0.80    120130\n",
      "\n"
     ]
    }
   ],
   "source": [
    "# Drop rows with missing values in key columns\n",
    "data = data.dropna(subset=['DEP_TIME', 'OP_UNIQUE_CARRIER', 'DEP_DEL15'])\n",
    "\n",
    "# Create departure hour feature\n",
    "data['DEP_HOUR'] = data['DEP_TIME'].apply(lambda x: int(x/100))\n",
    "\n",
    "# Select features\n",
    "X = data[['DAY_OF_WEEK', 'DEP_HOUR', 'OP_UNIQUE_CARRIER']]\n",
    "y = data['DEP_DEL15']\n",
    "\n",
    "# Convert categorical features to dummy variables\n",
    "X = pd.get_dummies(X, columns=['OP_UNIQUE_CARRIER'], drop_first=True)\n",
    "\n",
    "# Split data\n",
    "X_train, X_test, y_train, y_test = train_test_split(X, y, test_size=0.2, random_state=42)\n",
    "\n",
    "# Save original features for analysis (before any preprocessing)\n",
    "original_test_data = data.loc[X_test.index, ['OP_UNIQUE_CARRIER', 'DEP_HOUR']]\n",
    "\n",
    "# Train Random Forest model\n",
    "print(\"\\nTraining Random Forest model...\")\n",
    "rf_model = RandomForestClassifier(\n",
    "    n_estimators=100,\n",
    "    max_depth=10,\n",
    "    random_state=42\n",
    ")\n",
    "rf_model.fit(X_train, y_train)\n",
    "\n",
    "# Make predictions\n",
    "y_pred = rf_model.predict(X_test)\n",
    "\n",
    "# Evaluate model\n",
    "print(\"\\nModel Evaluation:\")\n",
    "print(\"Accuracy:\", accuracy_score(y_test, y_pred))\n",
    "print(\"\\nConfusion Matrix:\")\n",
    "cm = confusion_matrix(y_test, y_pred)\n",
    "print(cm)\n",
    "print(\"\\nClassification Report:\")\n",
    "print(classification_report(y_test, y_pred))"
   ]
  },
  {
   "cell_type": "code",
   "execution_count": 10,
   "id": "edab3fb5",
   "metadata": {},
   "outputs": [
    {
     "data": {
      "image/png": "[encoded data removed]",
      "text/plain": [
       "<Figure size 800x600 with 2 Axes>"
      ]
     },
     "metadata": {},
     "output_type": "display_data"
    },
    {
     "name": "stdout",
     "output_type": "stream",
     "text": [
      "\n",
      "Random Forest Model Insights:\n",
      "1. Overall model accuracy: 0.8645\n"
     ]
    }
   ],
   "source": [
    "# Visualize confusion matrix\n",
    "plt.figure(figsize=(8, 6))\n",
    "sns.heatmap(cm, annot=True, fmt='d', cmap='Blues')\n",
    "plt.title('Confusion Matrix')\n",
    "plt.xlabel('Predicted Label')\n",
    "plt.ylabel('True Label')\n",
    "plt.show()\n",
    "\n",
    "# Print insights\n",
    "print(\"\\nRandom Forest Model Insights:\")\n",
    "print(f\"1. Overall model accuracy: {accuracy_score(y_test, y_pred):.4f}\")"
   ]
  }
 ],
 "metadata": {
  "kernelspec": {
   "display_name": "venv",
   "language": "python",
   "name": "python3"
  },
  "language_info": {
   "codemirror_mode": {
    "name": "ipython",
    "version": 3
   },
   "file_extension": ".py",
   "mimetype": "text/x-python",
   "name": "python",
   "nbconvert_exporter": "python",
   "pygments_lexer": "ipython3",
   "version": "3.11.3"
  }
 },
 "nbformat": 4,
 "nbformat_minor": 5
}
